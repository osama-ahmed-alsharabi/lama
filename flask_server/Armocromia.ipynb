{
  "cells": [
    {
      "cell_type": "code",
      "execution_count": 1,
      "metadata": {
        "colab": {
          "base_uri": "https://localhost:8080/"
        },
        "id": "ZcR2dyn8Ei1i",
        "outputId": "cfe71e82-f3b1-4913-8a8a-4c85fe25c633"
      },
      "outputs": [
        {
          "output_type": "stream",
          "name": "stdout",
          "text": [
            "Requirement already satisfied: gdown in /usr/local/lib/python3.11/dist-packages (5.2.0)\n",
            "Requirement already satisfied: beautifulsoup4 in /usr/local/lib/python3.11/dist-packages (from gdown) (4.13.3)\n",
            "Requirement already satisfied: filelock in /usr/local/lib/python3.11/dist-packages (from gdown) (3.17.0)\n",
            "Requirement already satisfied: requests[socks] in /usr/local/lib/python3.11/dist-packages (from gdown) (2.32.3)\n",
            "Requirement already satisfied: tqdm in /usr/local/lib/python3.11/dist-packages (from gdown) (4.67.1)\n",
            "Requirement already satisfied: soupsieve>1.2 in /usr/local/lib/python3.11/dist-packages (from beautifulsoup4->gdown) (2.6)\n",
            "Requirement already satisfied: typing-extensions>=4.0.0 in /usr/local/lib/python3.11/dist-packages (from beautifulsoup4->gdown) (4.12.2)\n",
            "Requirement already satisfied: charset-normalizer<4,>=2 in /usr/local/lib/python3.11/dist-packages (from requests[socks]->gdown) (3.4.1)\n",
            "Requirement already satisfied: idna<4,>=2.5 in /usr/local/lib/python3.11/dist-packages (from requests[socks]->gdown) (3.10)\n",
            "Requirement already satisfied: urllib3<3,>=1.21.1 in /usr/local/lib/python3.11/dist-packages (from requests[socks]->gdown) (2.3.0)\n",
            "Requirement already satisfied: certifi>=2017.4.17 in /usr/local/lib/python3.11/dist-packages (from requests[socks]->gdown) (2025.1.31)\n",
            "Requirement already satisfied: PySocks!=1.5.7,>=1.5.6 in /usr/local/lib/python3.11/dist-packages (from requests[socks]->gdown) (1.7.1)\n",
            "Retrieving folder contents\n",
            "Retrieving folder 1HipMVLTayoZ_GH4DUKaWOQopp0Jf1xsO original_images_facer_masks\n",
            "Processing file 1_891QlDLQ7MkLgNMq_zXdRF28udh0vhP facer_masks.zip\n",
            "Processing file 1nQGP89r6qEnQaTW6uFkFTjoOa6NG4zJT ORIGINAL_RGB_NOT_PROCESSED.zip\n",
            "Retrieving folder 1ZcNHkgh2HHCXl3sXwpWI6RpNk-BBgVys release\n",
            "Processing file 1s6Nc20yWk7QAlpJ6T1diCEjG2D6Rkxsad9umyZNQ5BU annotations\n",
            "Processing file 1_6ImG5AtdGLFSIzdLCJK3E9WTMJcvsHp annotations.csv\n",
            "Processing file 1ocKo3srFvmxguwe9Va73SsLn1VTFiijG BM.zip\n",
            "Processing file 1h3e6n6rMWSdJyBY88EKA-ZUZkkiEz7LH RGB-M.zip\n",
            "Processing file 1N2GI5Q28YUXO8JRn4LI-M7i44578aieH RGB.zip\n",
            "Retrieving folder contents completed\n",
            "Building directory structure\n",
            "Building directory structure completed\n",
            "Downloading...\n",
            "From (original): https://drive.google.com/uc?id=1_891QlDLQ7MkLgNMq_zXdRF28udh0vhP\n",
            "From (redirected): https://drive.google.com/uc?id=1_891QlDLQ7MkLgNMq_zXdRF28udh0vhP&confirm=t&uuid=017e9811-f4f0-45b9-a6b5-8e3fdcf06917\n",
            "To: /content/Deep Armocromia/original_images_facer_masks/facer_masks.zip\n",
            "100% 43.7M/43.7M [00:01<00:00, 24.7MB/s]\n",
            "Downloading...\n",
            "From (original): https://drive.google.com/uc?id=1nQGP89r6qEnQaTW6uFkFTjoOa6NG4zJT\n",
            "From (redirected): https://drive.google.com/uc?id=1nQGP89r6qEnQaTW6uFkFTjoOa6NG4zJT&confirm=t&uuid=82505a33-39ca-43c3-812f-d96b98cd9782\n",
            "To: /content/Deep Armocromia/original_images_facer_masks/ORIGINAL_RGB_NOT_PROCESSED.zip\n",
            "100% 1.88G/1.88G [00:35<00:00, 52.9MB/s]\n",
            "Downloading...\n",
            "From (original): https://drive.google.com/uc?id=1s6Nc20yWk7QAlpJ6T1diCEjG2D6Rkxsad9umyZNQ5BU\n",
            "From (redirected): https://docs.google.com/spreadsheets/d/1s6Nc20yWk7QAlpJ6T1diCEjG2D6Rkxsad9umyZNQ5BU/export?format=xlsx\n",
            "To: /content/Deep Armocromia/release/annotations\n",
            "194kB [00:00, 391kB/s] \n",
            "Downloading...\n",
            "From: https://drive.google.com/uc?id=1_6ImG5AtdGLFSIzdLCJK3E9WTMJcvsHp\n",
            "To: /content/Deep Armocromia/release/annotations.csv\n",
            "100% 682k/682k [00:00<00:00, 124MB/s]\n",
            "Downloading...\n",
            "From (original): https://drive.google.com/uc?id=1ocKo3srFvmxguwe9Va73SsLn1VTFiijG\n",
            "From (redirected): https://drive.google.com/uc?id=1ocKo3srFvmxguwe9Va73SsLn1VTFiijG&confirm=t&uuid=aeef176a-36d0-4874-81ba-bfc5c9d0c527\n",
            "To: /content/Deep Armocromia/release/BM.zip\n",
            "100% 18.8M/18.8M [00:00<00:00, 30.8MB/s]\n",
            "Downloading...\n",
            "From (original): https://drive.google.com/uc?id=1h3e6n6rMWSdJyBY88EKA-ZUZkkiEz7LH\n",
            "From (redirected): https://drive.google.com/uc?id=1h3e6n6rMWSdJyBY88EKA-ZUZkkiEz7LH&confirm=t&uuid=90c398d5-1b6e-4e31-b681-2457f3b3bcee\n",
            "To: /content/Deep Armocromia/release/RGB-M.zip\n",
            "100% 1.88G/1.88G [00:27<00:00, 67.5MB/s]\n",
            "Downloading...\n",
            "From (original): https://drive.google.com/uc?id=1N2GI5Q28YUXO8JRn4LI-M7i44578aieH\n",
            "From (redirected): https://drive.google.com/uc?id=1N2GI5Q28YUXO8JRn4LI-M7i44578aieH&confirm=t&uuid=ea25e361-e4cc-423a-8a0d-2653c2a339b3\n",
            "To: /content/Deep Armocromia/release/RGB.zip\n",
            "100% 1.67G/1.67G [00:26<00:00, 64.2MB/s]\n",
            "Download completed\n"
          ]
        }
      ],
      "source": [
        "!pip install gdown\n",
        "\n",
        "gdrive_link = \"https://drive.google.com/drive/folders/1QuFJqNxhbLVME5UyUjDGYHQ1ntAqgniT?usp=sharing\"\n",
        "\n",
        "folder_id = \"1QuFJqNxhbLVME5UyUjDGYHQ1ntAqgniT\"\n",
        "\n",
        "!gdown --folder https://drive.google.com/drive/folders/{folder_id}\n"
      ]
    },
    {
      "cell_type": "code",
      "execution_count": 2,
      "metadata": {
        "colab": {
          "base_uri": "https://localhost:8080/"
        },
        "id": "IUvqqLZDFbMh",
        "outputId": "0b52105c-24ba-4abb-c514-4569dab3b371"
      },
      "outputs": [
        {
          "output_type": "stream",
          "name": "stdout",
          "text": [
            "Extracted: /content/Deep Armocromia/original_images_facer_masks/ORIGINAL_RGB_NOT_PROCESSED.zip\n",
            "Extracted: /content/Deep Armocromia/original_images_facer_masks/facer_masks.zip\n",
            "['ORIGINAL_RGB_NOT_PROCESSED', 'facer_masks']\n"
          ]
        }
      ],
      "source": [
        "import zipfile\n",
        "import os\n",
        "\n",
        "zip_paths = [\n",
        "    \"/content/Deep Armocromia/original_images_facer_masks/ORIGINAL_RGB_NOT_PROCESSED.zip\",\n",
        "    \"/content/Deep Armocromia/original_images_facer_masks/facer_masks.zip\"\n",
        "]\n",
        "\n",
        "password = b\"vraiarmocromia2024!!\"\n",
        "\n",
        "for zip_path in zip_paths:\n",
        "    with zipfile.ZipFile(zip_path, 'r') as zip_ref:\n",
        "        zip_ref.extractall(\n",
        "            \"/content/Deep_Armocromia_Extracted\",\n",
        "            pwd=password\n",
        "        )\n",
        "        print(f\"Extracted: {zip_path}\")\n",
        "\n",
        "extracted_path = \"/content/Deep_Armocromia_Extracted\"\n",
        "print(os.listdir(extracted_path))\n"
      ]
    },
    {
      "cell_type": "code",
      "source": [
        "import os\n",
        "\n",
        "base_path = \"/content/Deep_Armocromia_Extracted/ORIGINAL_RGB_NOT_PROCESSED\"\n",
        "train_path = os.path.join(base_path, \"train\")\n",
        "test_path = os.path.join(base_path, \"test\")\n",
        "\n",
        "def count_files_in_folders(folder_path):\n",
        "    if not os.path.exists(folder_path):\n",
        "        print(f\"⚠️ المجلد غير موجود: {folder_path}\")\n",
        "        return\n",
        "\n",
        "    print(f\"📂 استكشاف محتويات: {folder_path}\")\n",
        "\n",
        "    for subdir in os.listdir(folder_path):\n",
        "        subdir_path = os.path.join(folder_path, subdir)\n",
        "        if os.path.isdir(subdir_path):\n",
        "            num_files = len(os.listdir(subdir_path))\n",
        "            print(f\"📁 المجلد الفرعي: {subdir} | 📄 عدد الملفات: {num_files}\")\n",
        "\n",
        "    print(\"-\" * 50)\n",
        "\n",
        "count_files_in_folders(train_path)\n",
        "count_files_in_folders(test_path)\n"
      ],
      "metadata": {
        "colab": {
          "base_uri": "https://localhost:8080/"
        },
        "id": "5tJD5rqhvsQT",
        "outputId": "ed38bbbf-8f40-4078-dbaf-5ed5944cc245"
      },
      "execution_count": 4,
      "outputs": [
        {
          "output_type": "stream",
          "name": "stdout",
          "text": [
            "📂 استكشاف محتويات: /content/Deep_Armocromia_Extracted/ORIGINAL_RGB_NOT_PROCESSED/train\n",
            "📁 المجلد الفرعي: primavera | 📄 عدد الملفات: 3\n",
            "📁 المجلد الفرعي: estate | 📄 عدد الملفات: 3\n",
            "📁 المجلد الفرعي: inverno | 📄 عدد الملفات: 3\n",
            "📁 المجلد الفرعي: autunno | 📄 عدد الملفات: 3\n",
            "--------------------------------------------------\n",
            "📂 استكشاف محتويات: /content/Deep_Armocromia_Extracted/ORIGINAL_RGB_NOT_PROCESSED/test\n",
            "📁 المجلد الفرعي: primavera | 📄 عدد الملفات: 3\n",
            "📁 المجلد الفرعي: estate | 📄 عدد الملفات: 3\n",
            "📁 المجلد الفرعي: inverno | 📄 عدد الملفات: 3\n",
            "📁 المجلد الفرعي: autunno | 📄 عدد الملفات: 3\n",
            "--------------------------------------------------\n"
          ]
        }
      ]
    },
    {
      "cell_type": "code",
      "source": [
        "import os\n",
        "\n",
        "base_path = \"/content/Deep_Armocromia_Extracted/ORIGINAL_RGB_NOT_PROCESSED\"\n",
        "train_path = os.path.join(base_path, \"train\")\n",
        "test_path = os.path.join(base_path, \"test\")\n",
        "\n",
        "def explore_subfolders(folder_path):\n",
        "    if not os.path.exists(folder_path):\n",
        "        return\n",
        "\n",
        "    print(f\"\\n📂 استكشاف محتويات: {folder_path}\")\n",
        "\n",
        "    for subdir in sorted(os.listdir(folder_path)):\n",
        "        subdir_path = os.path.join(folder_path, subdir)\n",
        "        if os.path.isdir(subdir_path):\n",
        "            files = os.listdir(subdir_path)\n",
        "            print(f\"📁 المجلد الفرعي: {subdir} | 📄 عدد الملفات: {len(files)}\")\n",
        "            for file in files:\n",
        "                print(f\"  📌 {file}\")\n",
        "            print(\"-\" * 50)\n",
        "\n",
        "explore_subfolders(train_path)\n",
        "explore_subfolders(test_path)\n"
      ],
      "metadata": {
        "colab": {
          "base_uri": "https://localhost:8080/"
        },
        "id": "FymclI-22cVB",
        "outputId": "90dd915e-f868-4d01-9f2a-61cfbcc6b9ce"
      },
      "execution_count": 5,
      "outputs": [
        {
          "output_type": "stream",
          "name": "stdout",
          "text": [
            "\n",
            "📂 استكشاف محتويات: /content/Deep_Armocromia_Extracted/ORIGINAL_RGB_NOT_PROCESSED/train\n",
            "📁 المجلد الفرعي: autunno | 📄 عدد الملفات: 3\n",
            "  📌 warm\n",
            "  📌 soft\n",
            "  📌 deep\n",
            "--------------------------------------------------\n",
            "📁 المجلد الفرعي: estate | 📄 عدد الملفات: 3\n",
            "  📌 cool\n",
            "  📌 soft\n",
            "  📌 light\n",
            "--------------------------------------------------\n",
            "📁 المجلد الفرعي: inverno | 📄 عدد الملفات: 3\n",
            "  📌 cool\n",
            "  📌 bright\n",
            "  📌 deep\n",
            "--------------------------------------------------\n",
            "📁 المجلد الفرعي: primavera | 📄 عدد الملفات: 3\n",
            "  📌 bright\n",
            "  📌 warm\n",
            "  📌 light\n",
            "--------------------------------------------------\n",
            "\n",
            "📂 استكشاف محتويات: /content/Deep_Armocromia_Extracted/ORIGINAL_RGB_NOT_PROCESSED/test\n",
            "📁 المجلد الفرعي: autunno | 📄 عدد الملفات: 3\n",
            "  📌 warm\n",
            "  📌 soft\n",
            "  📌 deep\n",
            "--------------------------------------------------\n",
            "📁 المجلد الفرعي: estate | 📄 عدد الملفات: 3\n",
            "  📌 cool\n",
            "  📌 soft\n",
            "  📌 light\n",
            "--------------------------------------------------\n",
            "📁 المجلد الفرعي: inverno | 📄 عدد الملفات: 3\n",
            "  📌 cool\n",
            "  📌 bright\n",
            "  📌 deep\n",
            "--------------------------------------------------\n",
            "📁 المجلد الفرعي: primavera | 📄 عدد الملفات: 3\n",
            "  📌 bright\n",
            "  📌 warm\n",
            "  📌 light\n",
            "--------------------------------------------------\n"
          ]
        }
      ]
    },
    {
      "cell_type": "code",
      "source": [
        "import os\n",
        "\n",
        "base_path = \"/content/Deep_Armocromia_Extracted/ORIGINAL_RGB_NOT_PROCESSED\"\n",
        "train_path = os.path.join(base_path, \"train\")\n",
        "test_path = os.path.join(base_path, \"test\")\n",
        "\n",
        "def explore_categories(folder_path):\n",
        "    if not os.path.exists(folder_path):\n",
        "        print(f\"⚠️ المجلد غير موجود: {folder_path}\")\n",
        "        return\n",
        "\n",
        "    print(f\"\\n📂 استكشاف محتويات: {folder_path}\")\n",
        "\n",
        "    for season in sorted(os.listdir(folder_path)):\n",
        "        season_path = os.path.join(folder_path, season)\n",
        "        if os.path.isdir(season_path):\n",
        "            print(f\"\\n📁 الموسم: {season}\")\n",
        "\n",
        "            for category in sorted(os.listdir(season_path)):\n",
        "                category_path = os.path.join(season_path, category)\n",
        "                if os.path.isdir(category_path):\n",
        "                    files = os.listdir(category_path)\n",
        "                    print(f\"  📂 التصنيف: {category} | 📄 عدد الملفات: {len(files)}\")\n",
        "\n",
        "                    for file in files[:5]:\n",
        "                        print(f\"    📌 {file}\")\n",
        "\n",
        "            print(\"-\" * 50)\n",
        "\n",
        "explore_categories(train_path)\n",
        "explore_categories(test_path)\n"
      ],
      "metadata": {
        "colab": {
          "base_uri": "https://localhost:8080/"
        },
        "id": "XJOlCIkC2omw",
        "outputId": "bcc40f9a-5ae3-4030-bcd8-44d3102b4c82"
      },
      "execution_count": 6,
      "outputs": [
        {
          "output_type": "stream",
          "name": "stdout",
          "text": [
            "\n",
            "📂 استكشاف محتويات: /content/Deep_Armocromia_Extracted/ORIGINAL_RGB_NOT_PROCESSED/train\n",
            "\n",
            "📁 الموسم: autunno\n",
            "  📂 التصنيف: deep | 📄 عدد الملفات: 445\n",
            "    📌 Jeffrey Dean Morgan AUTUNNO DEEP.png\n",
            "    📌 cindy crawford 9.png\n",
            "    📌 23139.png\n",
            "    📌 28451.png\n",
            "    📌 13339.png\n",
            "  📂 التصنيف: soft | 📄 عدد الملفات: 318\n",
            "    📌 Ana de Armas 8.png\n",
            "    📌 28747.png\n",
            "    📌 Drew Barrymore 8.png\n",
            "    📌 ashley olsen 2_1.png\n",
            "    📌 Nicole Richie 8.png\n",
            "  📂 التصنيف: warm | 📄 عدد الملفات: 283\n",
            "    📌 2002.png\n",
            "    📌 7695.png\n",
            "    📌 25079.png\n",
            "    📌 Vanessa incontrada 1_0.png\n",
            "    📌 Annalisa 2_1.png\n",
            "--------------------------------------------------\n",
            "\n",
            "📁 الموسم: estate\n",
            "  📂 التصنيف: cool | 📄 عدد الملفات: 276\n",
            "    📌 images-64_0.png\n",
            "    📌 1132.png\n",
            "    📌 images-81_0.png\n",
            "    📌 images-47_0.png\n",
            "    📌 22082.png\n",
            "  📂 التصنيف: light | 📄 عدد الملفات: 312\n",
            "    📌 images-93_1.png\n",
            "    📌 14845.png\n",
            "    📌 images-88_1.png\n",
            "    📌 17311.png\n",
            "    📌 28977.png\n",
            "  📂 التصنيف: soft | 📄 عدد الملفات: 355\n",
            "    📌 images-19_2.png\n",
            "    📌 images-174.png\n",
            "    📌 15269.png\n",
            "    📌 marion cotillard-SOFT SUMMER.png\n",
            "    📌 22996.png\n",
            "--------------------------------------------------\n",
            "\n",
            "📁 الموسم: inverno\n",
            "  📂 التصنيف: bright | 📄 عدد الملفات: 271\n",
            "    📌 15406.png\n",
            "    📌 paola turani41.png\n",
            "    📌 paola turani31.png\n",
            "    📌 26601.png\n",
            "    📌 paola turani20.png\n",
            "  📂 التصنيف: cool | 📄 عدد الملفات: 345\n",
            "    📌 gweni stefani.png\n",
            "    📌 18121.png\n",
            "    📌 lily collins4.png\n",
            "    📌 8663.png\n",
            "    📌 16506.png\n",
            "  📂 التصنيف: deep | 📄 عدد الملفات: 425\n",
            "    📌 29839.png\n",
            "    📌 sabrina ferilli 6.png\n",
            "    📌 19790.png\n",
            "    📌 14023.png\n",
            "    📌 kim kardashian 5.png\n",
            "--------------------------------------------------\n",
            "\n",
            "📁 الموسم: primavera\n",
            "  📂 التصنيف: bright | 📄 عدد الملفات: 291\n",
            "    📌 Miranda Kerr1.png\n",
            "    📌 11000.png\n",
            "    📌 5626.png\n",
            "    📌 alexa chung33.png\n",
            "    📌 21136.png\n",
            "  📂 التصنيف: light | 📄 عدد الملفات: 331\n",
            "    📌 doutzen kroes2.png\n",
            "    📌 gillian anderson7.png\n",
            "    📌 owen wilson-primavera light.png\n",
            "    📌 10954.png\n",
            "    📌 gillian anderson32.png\n",
            "  📂 التصنيف: warm | 📄 عدد الملفات: 356\n",
            "    📌 14354.png\n",
            "    📌 Damian Lewis 3.png\n",
            "    📌 10556.png\n",
            "    📌 jiulie andrews-PRIMAVERA WARM .png\n",
            "    📌 emy adams- primavera warm.png\n",
            "--------------------------------------------------\n",
            "\n",
            "📂 استكشاف محتويات: /content/Deep_Armocromia_Extracted/ORIGINAL_RGB_NOT_PROCESSED/test\n",
            "\n",
            "📁 الموسم: autunno\n",
            "  📂 التصنيف: deep | 📄 عدد الملفات: 112\n",
            "    📌 15701.png\n",
            "    📌 21295.png\n",
            "    📌 26511.png\n",
            "    📌 15172.png\n",
            "    📌 24573.png\n",
            "  📂 التصنيف: soft | 📄 عدد الملفات: 73\n",
            "    📌 9217.png\n",
            "    📌 24703.png\n",
            "    📌 13716.png\n",
            "    📌 24530.png\n",
            "    📌 21731.png\n",
            "  📂 التصنيف: warm | 📄 عدد الملفات: 74\n",
            "    📌 11222.png\n",
            "    📌 28003.png\n",
            "    📌 29771.png\n",
            "    📌 25247.png\n",
            "    📌 4712.png\n",
            "--------------------------------------------------\n",
            "\n",
            "📁 الموسم: estate\n",
            "  📂 التصنيف: cool | 📄 عدد الملفات: 53\n",
            "    📌 20970.png\n",
            "    📌 26824.png\n",
            "    📌 9016.png\n",
            "    📌 23714.png\n",
            "    📌 25354.png\n",
            "  📂 التصنيف: light | 📄 عدد الملفات: 70\n",
            "    📌 2223.png\n",
            "    📌 16364.png\n",
            "    📌 29944.png\n",
            "    📌 11874.png\n",
            "    📌 11024.png\n",
            "  📂 التصنيف: soft | 📄 عدد الملفات: 63\n",
            "    📌 29459.png\n",
            "    📌 21786.png\n",
            "    📌 23397.png\n",
            "    📌 21475.png\n",
            "    📌 26899.png\n",
            "--------------------------------------------------\n",
            "\n",
            "📁 الموسم: inverno\n",
            "  📂 التصنيف: bright | 📄 عدد الملفات: 58\n",
            "    📌 4749.png\n",
            "    📌 5401.png\n",
            "    📌 12591.png\n",
            "    📌 6526.png\n",
            "    📌 1706.png\n",
            "  📂 التصنيف: cool | 📄 عدد الملفات: 89\n",
            "    📌 17344.png\n",
            "    📌 4566.png\n",
            "    📌 23809.png\n",
            "    📌 21504.png\n",
            "    📌 22267.png\n",
            "  📂 التصنيف: deep | 📄 عدد الملفات: 117\n",
            "    📌 26446.png\n",
            "    📌 17717.png\n",
            "    📌 10789.png\n",
            "    📌 26213.png\n",
            "    📌 27845.png\n",
            "--------------------------------------------------\n",
            "\n",
            "📁 الموسم: primavera\n",
            "  📂 التصنيف: bright | 📄 عدد الملفات: 66\n",
            "    📌 19696.png\n",
            "    📌 5314.png\n",
            "    📌 21802.png\n",
            "    📌 3029.png\n",
            "    📌 29561.png\n",
            "  📂 التصنيف: light | 📄 عدد الملفات: 64\n",
            "    📌 22908.png\n",
            "    📌 8588.png\n",
            "    📌 25428.png\n",
            "    📌 26687.png\n",
            "    📌 9989.png\n",
            "  📂 التصنيف: warm | 📄 عدد الملفات: 73\n",
            "    📌 20038.png\n",
            "    📌 3137.png\n",
            "    📌 25331.png\n",
            "    📌 2102.png\n",
            "    📌 27873.png\n",
            "--------------------------------------------------\n"
          ]
        }
      ]
    },
    {
      "cell_type": "code",
      "source": [
        "import tensorflow as tf\n",
        "from tensorflow import keras\n",
        "from tensorflow.keras.preprocessing.image import ImageDataGenerator\n",
        "from tensorflow.keras import layers, models\n",
        "import os\n",
        "import matplotlib.pyplot as plt\n"
      ],
      "metadata": {
        "id": "090Pm2yn2_-2"
      },
      "execution_count": 7,
      "outputs": []
    },
    {
      "cell_type": "code",
      "source": [
        "\n",
        "base_dir = \"/content/Deep_Armocromia_Extracted/ORIGINAL_RGB_NOT_PROCESSED\"\n",
        "train_dir = os.path.join(base_dir, \"train\")\n",
        "test_dir = os.path.join(base_dir, \"test\")\n",
        "\n",
        "\n",
        "train_datagen = ImageDataGenerator(\n",
        "    rescale=1./255,\n",
        "    rotation_range=20,\n",
        "    width_shift_range=0.2,\n",
        "    height_shift_range=0.2,\n",
        "    shear_range=0.2,\n",
        "    zoom_range=0.2,\n",
        "    horizontal_flip=True,\n",
        "    fill_mode='nearest'\n",
        ")\n",
        "\n",
        "test_datagen = ImageDataGenerator(rescale=1./255)\n",
        "\n",
        "train_generator = train_datagen.flow_from_directory(\n",
        "    train_dir,\n",
        "    target_size=(150, 150),\n",
        "    batch_size=32,\n",
        "    class_mode='categorical'\n",
        ")\n",
        "\n",
        "test_generator = test_datagen.flow_from_directory(\n",
        "    test_dir,\n",
        "    target_size=(150, 150),\n",
        "    batch_size=32,\n",
        "    class_mode='categorical'\n",
        ")"
      ],
      "metadata": {
        "colab": {
          "base_uri": "https://localhost:8080/"
        },
        "id": "NdjevxIT3DmO",
        "outputId": "62193d25-f98b-4000-a8f9-82b59942aa4d"
      },
      "execution_count": 8,
      "outputs": [
        {
          "output_type": "stream",
          "name": "stdout",
          "text": [
            "Found 4008 images belonging to 4 classes.\n",
            "Found 912 images belonging to 4 classes.\n"
          ]
        }
      ]
    },
    {
      "cell_type": "code",
      "source": [
        "model = models.Sequential([\n",
        "\n",
        "    layers.Conv2D(32, (3,3), activation='relu', input_shape=(150, 150, 3)),\n",
        "    layers.MaxPooling2D(2,2),\n",
        "\n",
        "\n",
        "    layers.Conv2D(64, (3,3), activation='relu'),\n",
        "    layers.MaxPooling2D(2,2),\n",
        "\n",
        "\n",
        "    layers.Conv2D(128, (3,3), activation='relu'),\n",
        "    layers.MaxPooling2D(2,2),\n",
        "\n",
        "\n",
        "    layers.Flatten(),\n",
        "    layers.Dense(512, activation='relu'),\n",
        "    layers.Dropout(0.5),\n",
        "    layers.Dense(len(train_generator.class_indices), activation='softmax')\n",
        "])\n",
        "\n",
        "model.summary()"
      ],
      "metadata": {
        "colab": {
          "base_uri": "https://localhost:8080/",
          "height": 531
        },
        "id": "GxdpxPWJ3H6k",
        "outputId": "b4318b0d-895b-44e0-cca6-af58d3d814eb"
      },
      "execution_count": 9,
      "outputs": [
        {
          "output_type": "stream",
          "name": "stderr",
          "text": [
            "/usr/local/lib/python3.11/dist-packages/keras/src/layers/convolutional/base_conv.py:107: UserWarning: Do not pass an `input_shape`/`input_dim` argument to a layer. When using Sequential models, prefer using an `Input(shape)` object as the first layer in the model instead.\n",
            "  super().__init__(activity_regularizer=activity_regularizer, **kwargs)\n"
          ]
        },
        {
          "output_type": "display_data",
          "data": {
            "text/plain": [
              "\u001b[1mModel: \"sequential\"\u001b[0m\n"
            ],
            "text/html": [
              "<pre style=\"white-space:pre;overflow-x:auto;line-height:normal;font-family:Menlo,'DejaVu Sans Mono',consolas,'Courier New',monospace\"><span style=\"font-weight: bold\">Model: \"sequential\"</span>\n",
              "</pre>\n"
            ]
          },
          "metadata": {}
        },
        {
          "output_type": "display_data",
          "data": {
            "text/plain": [
              "┏━━━━━━━━━━━━━━━━━━━━━━━━━━━━━━━━━━━━━━┳━━━━━━━━━━━━━━━━━━━━━━━━━━━━━┳━━━━━━━━━━━━━━━━━┓\n",
              "┃\u001b[1m \u001b[0m\u001b[1mLayer (type)                        \u001b[0m\u001b[1m \u001b[0m┃\u001b[1m \u001b[0m\u001b[1mOutput Shape               \u001b[0m\u001b[1m \u001b[0m┃\u001b[1m \u001b[0m\u001b[1m        Param #\u001b[0m\u001b[1m \u001b[0m┃\n",
              "┡━━━━━━━━━━━━━━━━━━━━━━━━━━━━━━━━━━━━━━╇━━━━━━━━━━━━━━━━━━━━━━━━━━━━━╇━━━━━━━━━━━━━━━━━┩\n",
              "│ conv2d (\u001b[38;5;33mConv2D\u001b[0m)                      │ (\u001b[38;5;45mNone\u001b[0m, \u001b[38;5;34m148\u001b[0m, \u001b[38;5;34m148\u001b[0m, \u001b[38;5;34m32\u001b[0m)        │             \u001b[38;5;34m896\u001b[0m │\n",
              "├──────────────────────────────────────┼─────────────────────────────┼─────────────────┤\n",
              "│ max_pooling2d (\u001b[38;5;33mMaxPooling2D\u001b[0m)         │ (\u001b[38;5;45mNone\u001b[0m, \u001b[38;5;34m74\u001b[0m, \u001b[38;5;34m74\u001b[0m, \u001b[38;5;34m32\u001b[0m)          │               \u001b[38;5;34m0\u001b[0m │\n",
              "├──────────────────────────────────────┼─────────────────────────────┼─────────────────┤\n",
              "│ conv2d_1 (\u001b[38;5;33mConv2D\u001b[0m)                    │ (\u001b[38;5;45mNone\u001b[0m, \u001b[38;5;34m72\u001b[0m, \u001b[38;5;34m72\u001b[0m, \u001b[38;5;34m64\u001b[0m)          │          \u001b[38;5;34m18,496\u001b[0m │\n",
              "├──────────────────────────────────────┼─────────────────────────────┼─────────────────┤\n",
              "│ max_pooling2d_1 (\u001b[38;5;33mMaxPooling2D\u001b[0m)       │ (\u001b[38;5;45mNone\u001b[0m, \u001b[38;5;34m36\u001b[0m, \u001b[38;5;34m36\u001b[0m, \u001b[38;5;34m64\u001b[0m)          │               \u001b[38;5;34m0\u001b[0m │\n",
              "├──────────────────────────────────────┼─────────────────────────────┼─────────────────┤\n",
              "│ conv2d_2 (\u001b[38;5;33mConv2D\u001b[0m)                    │ (\u001b[38;5;45mNone\u001b[0m, \u001b[38;5;34m34\u001b[0m, \u001b[38;5;34m34\u001b[0m, \u001b[38;5;34m128\u001b[0m)         │          \u001b[38;5;34m73,856\u001b[0m │\n",
              "├──────────────────────────────────────┼─────────────────────────────┼─────────────────┤\n",
              "│ max_pooling2d_2 (\u001b[38;5;33mMaxPooling2D\u001b[0m)       │ (\u001b[38;5;45mNone\u001b[0m, \u001b[38;5;34m17\u001b[0m, \u001b[38;5;34m17\u001b[0m, \u001b[38;5;34m128\u001b[0m)         │               \u001b[38;5;34m0\u001b[0m │\n",
              "├──────────────────────────────────────┼─────────────────────────────┼─────────────────┤\n",
              "│ flatten (\u001b[38;5;33mFlatten\u001b[0m)                    │ (\u001b[38;5;45mNone\u001b[0m, \u001b[38;5;34m36992\u001b[0m)               │               \u001b[38;5;34m0\u001b[0m │\n",
              "├──────────────────────────────────────┼─────────────────────────────┼─────────────────┤\n",
              "│ dense (\u001b[38;5;33mDense\u001b[0m)                        │ (\u001b[38;5;45mNone\u001b[0m, \u001b[38;5;34m512\u001b[0m)                 │      \u001b[38;5;34m18,940,416\u001b[0m │\n",
              "├──────────────────────────────────────┼─────────────────────────────┼─────────────────┤\n",
              "│ dropout (\u001b[38;5;33mDropout\u001b[0m)                    │ (\u001b[38;5;45mNone\u001b[0m, \u001b[38;5;34m512\u001b[0m)                 │               \u001b[38;5;34m0\u001b[0m │\n",
              "├──────────────────────────────────────┼─────────────────────────────┼─────────────────┤\n",
              "│ dense_1 (\u001b[38;5;33mDense\u001b[0m)                      │ (\u001b[38;5;45mNone\u001b[0m, \u001b[38;5;34m4\u001b[0m)                   │           \u001b[38;5;34m2,052\u001b[0m │\n",
              "└──────────────────────────────────────┴─────────────────────────────┴─────────────────┘\n"
            ],
            "text/html": [
              "<pre style=\"white-space:pre;overflow-x:auto;line-height:normal;font-family:Menlo,'DejaVu Sans Mono',consolas,'Courier New',monospace\">┏━━━━━━━━━━━━━━━━━━━━━━━━━━━━━━━━━━━━━━┳━━━━━━━━━━━━━━━━━━━━━━━━━━━━━┳━━━━━━━━━━━━━━━━━┓\n",
              "┃<span style=\"font-weight: bold\"> Layer (type)                         </span>┃<span style=\"font-weight: bold\"> Output Shape                </span>┃<span style=\"font-weight: bold\">         Param # </span>┃\n",
              "┡━━━━━━━━━━━━━━━━━━━━━━━━━━━━━━━━━━━━━━╇━━━━━━━━━━━━━━━━━━━━━━━━━━━━━╇━━━━━━━━━━━━━━━━━┩\n",
              "│ conv2d (<span style=\"color: #0087ff; text-decoration-color: #0087ff\">Conv2D</span>)                      │ (<span style=\"color: #00d7ff; text-decoration-color: #00d7ff\">None</span>, <span style=\"color: #00af00; text-decoration-color: #00af00\">148</span>, <span style=\"color: #00af00; text-decoration-color: #00af00\">148</span>, <span style=\"color: #00af00; text-decoration-color: #00af00\">32</span>)        │             <span style=\"color: #00af00; text-decoration-color: #00af00\">896</span> │\n",
              "├──────────────────────────────────────┼─────────────────────────────┼─────────────────┤\n",
              "│ max_pooling2d (<span style=\"color: #0087ff; text-decoration-color: #0087ff\">MaxPooling2D</span>)         │ (<span style=\"color: #00d7ff; text-decoration-color: #00d7ff\">None</span>, <span style=\"color: #00af00; text-decoration-color: #00af00\">74</span>, <span style=\"color: #00af00; text-decoration-color: #00af00\">74</span>, <span style=\"color: #00af00; text-decoration-color: #00af00\">32</span>)          │               <span style=\"color: #00af00; text-decoration-color: #00af00\">0</span> │\n",
              "├──────────────────────────────────────┼─────────────────────────────┼─────────────────┤\n",
              "│ conv2d_1 (<span style=\"color: #0087ff; text-decoration-color: #0087ff\">Conv2D</span>)                    │ (<span style=\"color: #00d7ff; text-decoration-color: #00d7ff\">None</span>, <span style=\"color: #00af00; text-decoration-color: #00af00\">72</span>, <span style=\"color: #00af00; text-decoration-color: #00af00\">72</span>, <span style=\"color: #00af00; text-decoration-color: #00af00\">64</span>)          │          <span style=\"color: #00af00; text-decoration-color: #00af00\">18,496</span> │\n",
              "├──────────────────────────────────────┼─────────────────────────────┼─────────────────┤\n",
              "│ max_pooling2d_1 (<span style=\"color: #0087ff; text-decoration-color: #0087ff\">MaxPooling2D</span>)       │ (<span style=\"color: #00d7ff; text-decoration-color: #00d7ff\">None</span>, <span style=\"color: #00af00; text-decoration-color: #00af00\">36</span>, <span style=\"color: #00af00; text-decoration-color: #00af00\">36</span>, <span style=\"color: #00af00; text-decoration-color: #00af00\">64</span>)          │               <span style=\"color: #00af00; text-decoration-color: #00af00\">0</span> │\n",
              "├──────────────────────────────────────┼─────────────────────────────┼─────────────────┤\n",
              "│ conv2d_2 (<span style=\"color: #0087ff; text-decoration-color: #0087ff\">Conv2D</span>)                    │ (<span style=\"color: #00d7ff; text-decoration-color: #00d7ff\">None</span>, <span style=\"color: #00af00; text-decoration-color: #00af00\">34</span>, <span style=\"color: #00af00; text-decoration-color: #00af00\">34</span>, <span style=\"color: #00af00; text-decoration-color: #00af00\">128</span>)         │          <span style=\"color: #00af00; text-decoration-color: #00af00\">73,856</span> │\n",
              "├──────────────────────────────────────┼─────────────────────────────┼─────────────────┤\n",
              "│ max_pooling2d_2 (<span style=\"color: #0087ff; text-decoration-color: #0087ff\">MaxPooling2D</span>)       │ (<span style=\"color: #00d7ff; text-decoration-color: #00d7ff\">None</span>, <span style=\"color: #00af00; text-decoration-color: #00af00\">17</span>, <span style=\"color: #00af00; text-decoration-color: #00af00\">17</span>, <span style=\"color: #00af00; text-decoration-color: #00af00\">128</span>)         │               <span style=\"color: #00af00; text-decoration-color: #00af00\">0</span> │\n",
              "├──────────────────────────────────────┼─────────────────────────────┼─────────────────┤\n",
              "│ flatten (<span style=\"color: #0087ff; text-decoration-color: #0087ff\">Flatten</span>)                    │ (<span style=\"color: #00d7ff; text-decoration-color: #00d7ff\">None</span>, <span style=\"color: #00af00; text-decoration-color: #00af00\">36992</span>)               │               <span style=\"color: #00af00; text-decoration-color: #00af00\">0</span> │\n",
              "├──────────────────────────────────────┼─────────────────────────────┼─────────────────┤\n",
              "│ dense (<span style=\"color: #0087ff; text-decoration-color: #0087ff\">Dense</span>)                        │ (<span style=\"color: #00d7ff; text-decoration-color: #00d7ff\">None</span>, <span style=\"color: #00af00; text-decoration-color: #00af00\">512</span>)                 │      <span style=\"color: #00af00; text-decoration-color: #00af00\">18,940,416</span> │\n",
              "├──────────────────────────────────────┼─────────────────────────────┼─────────────────┤\n",
              "│ dropout (<span style=\"color: #0087ff; text-decoration-color: #0087ff\">Dropout</span>)                    │ (<span style=\"color: #00d7ff; text-decoration-color: #00d7ff\">None</span>, <span style=\"color: #00af00; text-decoration-color: #00af00\">512</span>)                 │               <span style=\"color: #00af00; text-decoration-color: #00af00\">0</span> │\n",
              "├──────────────────────────────────────┼─────────────────────────────┼─────────────────┤\n",
              "│ dense_1 (<span style=\"color: #0087ff; text-decoration-color: #0087ff\">Dense</span>)                      │ (<span style=\"color: #00d7ff; text-decoration-color: #00d7ff\">None</span>, <span style=\"color: #00af00; text-decoration-color: #00af00\">4</span>)                   │           <span style=\"color: #00af00; text-decoration-color: #00af00\">2,052</span> │\n",
              "└──────────────────────────────────────┴─────────────────────────────┴─────────────────┘\n",
              "</pre>\n"
            ]
          },
          "metadata": {}
        },
        {
          "output_type": "display_data",
          "data": {
            "text/plain": [
              "\u001b[1m Total params: \u001b[0m\u001b[38;5;34m19,035,716\u001b[0m (72.62 MB)\n"
            ],
            "text/html": [
              "<pre style=\"white-space:pre;overflow-x:auto;line-height:normal;font-family:Menlo,'DejaVu Sans Mono',consolas,'Courier New',monospace\"><span style=\"font-weight: bold\"> Total params: </span><span style=\"color: #00af00; text-decoration-color: #00af00\">19,035,716</span> (72.62 MB)\n",
              "</pre>\n"
            ]
          },
          "metadata": {}
        },
        {
          "output_type": "display_data",
          "data": {
            "text/plain": [
              "\u001b[1m Trainable params: \u001b[0m\u001b[38;5;34m19,035,716\u001b[0m (72.62 MB)\n"
            ],
            "text/html": [
              "<pre style=\"white-space:pre;overflow-x:auto;line-height:normal;font-family:Menlo,'DejaVu Sans Mono',consolas,'Courier New',monospace\"><span style=\"font-weight: bold\"> Trainable params: </span><span style=\"color: #00af00; text-decoration-color: #00af00\">19,035,716</span> (72.62 MB)\n",
              "</pre>\n"
            ]
          },
          "metadata": {}
        },
        {
          "output_type": "display_data",
          "data": {
            "text/plain": [
              "\u001b[1m Non-trainable params: \u001b[0m\u001b[38;5;34m0\u001b[0m (0.00 B)\n"
            ],
            "text/html": [
              "<pre style=\"white-space:pre;overflow-x:auto;line-height:normal;font-family:Menlo,'DejaVu Sans Mono',consolas,'Courier New',monospace\"><span style=\"font-weight: bold\"> Non-trainable params: </span><span style=\"color: #00af00; text-decoration-color: #00af00\">0</span> (0.00 B)\n",
              "</pre>\n"
            ]
          },
          "metadata": {}
        }
      ]
    },
    {
      "cell_type": "code",
      "source": [
        "# 1 CNN"
      ],
      "metadata": {
        "id": "GfkxNfC3Dmfm"
      },
      "execution_count": 25,
      "outputs": []
    },
    {
      "cell_type": "code",
      "source": [
        "\n",
        "model.compile(\n",
        "    loss='categorical_crossentropy',\n",
        "    optimizer='adam',\n",
        "    metrics=['accuracy']\n",
        ")\n",
        "\n",
        "\n",
        "history = model.fit(\n",
        "    train_generator,\n",
        "    epochs=10,\n",
        "    validation_data=test_generator\n",
        ")\n"
      ],
      "metadata": {
        "colab": {
          "base_uri": "https://localhost:8080/"
        },
        "id": "WAwp_qk93PDF",
        "outputId": "a5168ed0-8bd9-436d-b58b-72afff6a062d"
      },
      "execution_count": 10,
      "outputs": [
        {
          "output_type": "stream",
          "name": "stderr",
          "text": [
            "/usr/local/lib/python3.11/dist-packages/keras/src/trainers/data_adapters/py_dataset_adapter.py:121: UserWarning: Your `PyDataset` class should call `super().__init__(**kwargs)` in its constructor. `**kwargs` can include `workers`, `use_multiprocessing`, `max_queue_size`. Do not pass these arguments to `fit()`, as they will be ignored.\n",
            "  self._warn_if_super_not_called()\n"
          ]
        },
        {
          "output_type": "stream",
          "name": "stdout",
          "text": [
            "Epoch 1/10\n",
            "\u001b[1m126/126\u001b[0m \u001b[32m━━━━━━━━━━━━━━━━━━━━\u001b[0m\u001b[37m\u001b[0m \u001b[1m79s\u001b[0m 572ms/step - accuracy: 0.3007 - loss: 1.4802 - val_accuracy: 0.4781 - val_loss: 1.1999\n",
            "Epoch 2/10\n",
            "\u001b[1m126/126\u001b[0m \u001b[32m━━━━━━━━━━━━━━━━━━━━\u001b[0m\u001b[37m\u001b[0m \u001b[1m71s\u001b[0m 528ms/step - accuracy: 0.4325 - loss: 1.2485 - val_accuracy: 0.5000 - val_loss: 1.1359\n",
            "Epoch 3/10\n",
            "\u001b[1m126/126\u001b[0m \u001b[32m━━━━━━━━━━━━━━━━━━━━\u001b[0m\u001b[37m\u001b[0m \u001b[1m66s\u001b[0m 525ms/step - accuracy: 0.4594 - loss: 1.2141 - val_accuracy: 0.5055 - val_loss: 1.0948\n",
            "Epoch 4/10\n",
            "\u001b[1m126/126\u001b[0m \u001b[32m━━━━━━━━━━━━━━━━━━━━\u001b[0m\u001b[37m\u001b[0m \u001b[1m66s\u001b[0m 521ms/step - accuracy: 0.4735 - loss: 1.1793 - val_accuracy: 0.4638 - val_loss: 1.1649\n",
            "Epoch 5/10\n",
            "\u001b[1m126/126\u001b[0m \u001b[32m━━━━━━━━━━━━━━━━━━━━\u001b[0m\u001b[37m\u001b[0m \u001b[1m65s\u001b[0m 516ms/step - accuracy: 0.4771 - loss: 1.1731 - val_accuracy: 0.5154 - val_loss: 1.0937\n",
            "Epoch 6/10\n",
            "\u001b[1m126/126\u001b[0m \u001b[32m━━━━━━━━━━━━━━━━━━━━\u001b[0m\u001b[37m\u001b[0m \u001b[1m65s\u001b[0m 518ms/step - accuracy: 0.4717 - loss: 1.1602 - val_accuracy: 0.5219 - val_loss: 1.0813\n",
            "Epoch 7/10\n",
            "\u001b[1m126/126\u001b[0m \u001b[32m━━━━━━━━━━━━━━━━━━━━\u001b[0m\u001b[37m\u001b[0m \u001b[1m65s\u001b[0m 518ms/step - accuracy: 0.4862 - loss: 1.1604 - val_accuracy: 0.5088 - val_loss: 1.1048\n",
            "Epoch 8/10\n",
            "\u001b[1m126/126\u001b[0m \u001b[32m━━━━━━━━━━━━━━━━━━━━\u001b[0m\u001b[37m\u001b[0m \u001b[1m73s\u001b[0m 575ms/step - accuracy: 0.4903 - loss: 1.1649 - val_accuracy: 0.5208 - val_loss: 1.0800\n",
            "Epoch 9/10\n",
            "\u001b[1m126/126\u001b[0m \u001b[32m━━━━━━━━━━━━━━━━━━━━\u001b[0m\u001b[37m\u001b[0m \u001b[1m67s\u001b[0m 533ms/step - accuracy: 0.4855 - loss: 1.1689 - val_accuracy: 0.5340 - val_loss: 1.0744\n",
            "Epoch 10/10\n",
            "\u001b[1m126/126\u001b[0m \u001b[32m━━━━━━━━━━━━━━━━━━━━\u001b[0m\u001b[37m\u001b[0m \u001b[1m67s\u001b[0m 532ms/step - accuracy: 0.4726 - loss: 1.1544 - val_accuracy: 0.4803 - val_loss: 1.1583\n"
          ]
        }
      ]
    },
    {
      "cell_type": "code",
      "source": [
        "plt.plot(history.history['accuracy'], label='accuracy')\n",
        "plt.plot(history.history['val_accuracy'], label='val_accuracy ')\n",
        "plt.xlabel('Epochs')\n",
        "plt.ylabel('Accuracy')\n",
        "plt.legend()\n",
        "plt.show()"
      ],
      "metadata": {
        "colab": {
          "base_uri": "https://localhost:8080/",
          "height": 449
        },
        "id": "z-NuVi1O56q8",
        "outputId": "4baaf936-c5cc-4af8-afae-cb3c5be5e292"
      },
      "execution_count": 12,
      "outputs": [
        {
          "output_type": "display_data",
          "data": {
            "text/plain": [
              "<Figure size 640x480 with 1 Axes>"
            ],
            "image/png": "[encoded data removed]"
          },
          "metadata": {}
        }
      ]
    },
    {
      "cell_type": "code",
      "source": [
        "import tensorflow as tf\n",
        "from tensorflow import keras\n",
        "from tensorflow.keras.preprocessing.image import ImageDataGenerator\n",
        "from tensorflow.keras.applications import MobileNetV2\n",
        "from tensorflow.keras import layers, models\n",
        "import os\n",
        "import matplotlib.pyplot as plt\n"
      ],
      "metadata": {
        "id": "XemN7E6j5-xx"
      },
      "execution_count": 19,
      "outputs": []
    },
    {
      "cell_type": "code",
      "source": [
        "base_dir = \"/content/Deep_Armocromia_Extracted/ORIGINAL_RGB_NOT_PROCESSED\"\n",
        "train_dir = os.path.join(base_dir, \"train\")\n",
        "test_dir = os.path.join(base_dir, \"test\")\n",
        "\n",
        "train_datagen = ImageDataGenerator(\n",
        "    rescale=1./255,\n",
        "    rotation_range=15,\n",
        "    width_shift_range=0.1,\n",
        "    height_shift_range=0.1,\n",
        "    shear_range=0.1,\n",
        "    zoom_range=0.1,\n",
        "    horizontal_flip=True,\n",
        "    fill_mode='nearest'\n",
        ")\n",
        "\n",
        "test_datagen = ImageDataGenerator(rescale=1./255)\n",
        "\n",
        "train_generator = train_datagen.flow_from_directory(\n",
        "    train_dir,\n",
        "    target_size=(160, 160),\n",
        "    batch_size=32,\n",
        "    class_mode='categorical'\n",
        ")\n",
        "\n",
        "test_generator = test_datagen.flow_from_directory(\n",
        "    test_dir,\n",
        "    target_size=(160, 160),\n",
        "    batch_size=32,\n",
        "    class_mode='categorical'\n",
        ")"
      ],
      "metadata": {
        "colab": {
          "base_uri": "https://localhost:8080/"
        },
        "id": "5KasFv4j7f3c",
        "outputId": "1c54282e-f5fe-4444-b1b2-03aaab9b50e1"
      },
      "execution_count": 20,
      "outputs": [
        {
          "output_type": "stream",
          "name": "stdout",
          "text": [
            "Found 4008 images belonging to 4 classes.\n",
            "Found 912 images belonging to 4 classes.\n"
          ]
        }
      ]
    },
    {
      "cell_type": "code",
      "source": [
        "# MobileNetV2"
      ],
      "metadata": {
        "id": "gWBK1D91IPTH"
      },
      "execution_count": 36,
      "outputs": []
    },
    {
      "cell_type": "code",
      "source": [
        "base_model = MobileNetV2(input_shape=(160, 160, 3), include_top=False, weights='imagenet')\n",
        "\n",
        "base_model.trainable = False\n",
        "\n",
        "model = models.Sequential([\n",
        "    base_model,\n",
        "    layers.GlobalAveragePooling2D(),\n",
        "    layers.Dense(512, activation='relu'),\n",
        "    layers.Dropout(0.3),\n",
        "    layers.Dense(len(train_generator.class_indices), activation='softmax')\n",
        "])\n",
        "\n",
        "model.compile(\n",
        "    loss='categorical_crossentropy',\n",
        "    optimizer=keras.optimizers.Adam(learning_rate=0.0005),\n",
        "    metrics=['accuracy']\n",
        ")\n",
        "\n",
        "\n",
        "model.summary()\n"
      ],
      "metadata": {
        "colab": {
          "base_uri": "https://localhost:8080/",
          "height": 358
        },
        "id": "nGhgEiRO7ifn",
        "outputId": "f95f183f-2ac4-4185-e5bd-060d918e771b"
      },
      "execution_count": 21,
      "outputs": [
        {
          "output_type": "stream",
          "name": "stdout",
          "text": [
            "Downloading data from https://storage.googleapis.com/tensorflow/keras-applications/mobilenet_v2/mobilenet_v2_weights_tf_dim_ordering_tf_kernels_1.0_160_no_top.h5\n",
            "\u001b[1m9406464/9406464\u001b[0m \u001b[32m━━━━━━━━━━━━━━━━━━━━\u001b[0m\u001b[37m\u001b[0m \u001b[1m2s\u001b[0m 0us/step\n"
          ]
        },
        {
          "output_type": "display_data",
          "data": {
            "text/plain": [
              "\u001b[1mModel: \"sequential_1\"\u001b[0m\n"
            ],
            "text/html": [
              "<pre style=\"white-space:pre;overflow-x:auto;line-height:normal;font-family:Menlo,'DejaVu Sans Mono',consolas,'Courier New',monospace\"><span style=\"font-weight: bold\">Model: \"sequential_1\"</span>\n",
              "</pre>\n"
            ]
          },
          "metadata": {}
        },
        {
          "output_type": "display_data",
          "data": {
            "text/plain": [
              "┏━━━━━━━━━━━━━━━━━━━━━━━━━━━━━━━━━━━━━━┳━━━━━━━━━━━━━━━━━━━━━━━━━━━━━┳━━━━━━━━━━━━━━━━━┓\n",
              "┃\u001b[1m \u001b[0m\u001b[1mLayer (type)                        \u001b[0m\u001b[1m \u001b[0m┃\u001b[1m \u001b[0m\u001b[1mOutput Shape               \u001b[0m\u001b[1m \u001b[0m┃\u001b[1m \u001b[0m\u001b[1m        Param #\u001b[0m\u001b[1m \u001b[0m┃\n",
              "┡━━━━━━━━━━━━━━━━━━━━━━━━━━━━━━━━━━━━━━╇━━━━━━━━━━━━━━━━━━━━━━━━━━━━━╇━━━━━━━━━━━━━━━━━┩\n",
              "│ mobilenetv2_1.00_160 (\u001b[38;5;33mFunctional\u001b[0m)    │ (\u001b[38;5;45mNone\u001b[0m, \u001b[38;5;34m5\u001b[0m, \u001b[38;5;34m5\u001b[0m, \u001b[38;5;34m1280\u001b[0m)          │       \u001b[38;5;34m2,257,984\u001b[0m │\n",
              "├──────────────────────────────────────┼─────────────────────────────┼─────────────────┤\n",
              "│ global_average_pooling2d             │ (\u001b[38;5;45mNone\u001b[0m, \u001b[38;5;34m1280\u001b[0m)                │               \u001b[38;5;34m0\u001b[0m │\n",
              "│ (\u001b[38;5;33mGlobalAveragePooling2D\u001b[0m)             │                             │                 │\n",
              "├──────────────────────────────────────┼─────────────────────────────┼─────────────────┤\n",
              "│ dense_2 (\u001b[38;5;33mDense\u001b[0m)                      │ (\u001b[38;5;45mNone\u001b[0m, \u001b[38;5;34m512\u001b[0m)                 │         \u001b[38;5;34m655,872\u001b[0m │\n",
              "├──────────────────────────────────────┼─────────────────────────────┼─────────────────┤\n",
              "│ dropout_2 (\u001b[38;5;33mDropout\u001b[0m)                  │ (\u001b[38;5;45mNone\u001b[0m, \u001b[38;5;34m512\u001b[0m)                 │               \u001b[38;5;34m0\u001b[0m │\n",
              "├──────────────────────────────────────┼─────────────────────────────┼─────────────────┤\n",
              "│ dense_3 (\u001b[38;5;33mDense\u001b[0m)                      │ (\u001b[38;5;45mNone\u001b[0m, \u001b[38;5;34m4\u001b[0m)                   │           \u001b[38;5;34m2,052\u001b[0m │\n",
              "└──────────────────────────────────────┴─────────────────────────────┴─────────────────┘\n"
            ],
            "text/html": [
              "<pre style=\"white-space:pre;overflow-x:auto;line-height:normal;font-family:Menlo,'DejaVu Sans Mono',consolas,'Courier New',monospace\">┏━━━━━━━━━━━━━━━━━━━━━━━━━━━━━━━━━━━━━━┳━━━━━━━━━━━━━━━━━━━━━━━━━━━━━┳━━━━━━━━━━━━━━━━━┓\n",
              "┃<span style=\"font-weight: bold\"> Layer (type)                         </span>┃<span style=\"font-weight: bold\"> Output Shape                </span>┃<span style=\"font-weight: bold\">         Param # </span>┃\n",
              "┡━━━━━━━━━━━━━━━━━━━━━━━━━━━━━━━━━━━━━━╇━━━━━━━━━━━━━━━━━━━━━━━━━━━━━╇━━━━━━━━━━━━━━━━━┩\n",
              "│ mobilenetv2_1.00_160 (<span style=\"color: #0087ff; text-decoration-color: #0087ff\">Functional</span>)    │ (<span style=\"color: #00d7ff; text-decoration-color: #00d7ff\">None</span>, <span style=\"color: #00af00; text-decoration-color: #00af00\">5</span>, <span style=\"color: #00af00; text-decoration-color: #00af00\">5</span>, <span style=\"color: #00af00; text-decoration-color: #00af00\">1280</span>)          │       <span style=\"color: #00af00; text-decoration-color: #00af00\">2,257,984</span> │\n",
              "├──────────────────────────────────────┼─────────────────────────────┼─────────────────┤\n",
              "│ global_average_pooling2d             │ (<span style=\"color: #00d7ff; text-decoration-color: #00d7ff\">None</span>, <span style=\"color: #00af00; text-decoration-color: #00af00\">1280</span>)                │               <span style=\"color: #00af00; text-decoration-color: #00af00\">0</span> │\n",
              "│ (<span style=\"color: #0087ff; text-decoration-color: #0087ff\">GlobalAveragePooling2D</span>)             │                             │                 │\n",
              "├──────────────────────────────────────┼─────────────────────────────┼─────────────────┤\n",
              "│ dense_2 (<span style=\"color: #0087ff; text-decoration-color: #0087ff\">Dense</span>)                      │ (<span style=\"color: #00d7ff; text-decoration-color: #00d7ff\">None</span>, <span style=\"color: #00af00; text-decoration-color: #00af00\">512</span>)                 │         <span style=\"color: #00af00; text-decoration-color: #00af00\">655,872</span> │\n",
              "├──────────────────────────────────────┼─────────────────────────────┼─────────────────┤\n",
              "│ dropout_2 (<span style=\"color: #0087ff; text-decoration-color: #0087ff\">Dropout</span>)                  │ (<span style=\"color: #00d7ff; text-decoration-color: #00d7ff\">None</span>, <span style=\"color: #00af00; text-decoration-color: #00af00\">512</span>)                 │               <span style=\"color: #00af00; text-decoration-color: #00af00\">0</span> │\n",
              "├──────────────────────────────────────┼─────────────────────────────┼─────────────────┤\n",
              "│ dense_3 (<span style=\"color: #0087ff; text-decoration-color: #0087ff\">Dense</span>)                      │ (<span style=\"color: #00d7ff; text-decoration-color: #00d7ff\">None</span>, <span style=\"color: #00af00; text-decoration-color: #00af00\">4</span>)                   │           <span style=\"color: #00af00; text-decoration-color: #00af00\">2,052</span> │\n",
              "└──────────────────────────────────────┴─────────────────────────────┴─────────────────┘\n",
              "</pre>\n"
            ]
          },
          "metadata": {}
        },
        {
          "output_type": "display_data",
          "data": {
            "text/plain": [
              "\u001b[1m Total params: \u001b[0m\u001b[38;5;34m2,915,908\u001b[0m (11.12 MB)\n"
            ],
            "text/html": [
              "<pre style=\"white-space:pre;overflow-x:auto;line-height:normal;font-family:Menlo,'DejaVu Sans Mono',consolas,'Courier New',monospace\"><span style=\"font-weight: bold\"> Total params: </span><span style=\"color: #00af00; text-decoration-color: #00af00\">2,915,908</span> (11.12 MB)\n",
              "</pre>\n"
            ]
          },
          "metadata": {}
        },
        {
          "output_type": "display_data",
          "data": {
            "text/plain": [
              "\u001b[1m Trainable params: \u001b[0m\u001b[38;5;34m657,924\u001b[0m (2.51 MB)\n"
            ],
            "text/html": [
              "<pre style=\"white-space:pre;overflow-x:auto;line-height:normal;font-family:Menlo,'DejaVu Sans Mono',consolas,'Courier New',monospace\"><span style=\"font-weight: bold\"> Trainable params: </span><span style=\"color: #00af00; text-decoration-color: #00af00\">657,924</span> (2.51 MB)\n",
              "</pre>\n"
            ]
          },
          "metadata": {}
        },
        {
          "output_type": "display_data",
          "data": {
            "text/plain": [
              "\u001b[1m Non-trainable params: \u001b[0m\u001b[38;5;34m2,257,984\u001b[0m (8.61 MB)\n"
            ],
            "text/html": [
              "<pre style=\"white-space:pre;overflow-x:auto;line-height:normal;font-family:Menlo,'DejaVu Sans Mono',consolas,'Courier New',monospace\"><span style=\"font-weight: bold\"> Non-trainable params: </span><span style=\"color: #00af00; text-decoration-color: #00af00\">2,257,984</span> (8.61 MB)\n",
              "</pre>\n"
            ]
          },
          "metadata": {}
        }
      ]
    },
    {
      "cell_type": "code",
      "source": [
        "# 2"
      ],
      "metadata": {
        "id": "_jp3_ocYDqY1"
      },
      "execution_count": 26,
      "outputs": []
    },
    {
      "cell_type": "code",
      "source": [
        "history = model.fit(\n",
        "    train_generator,\n",
        "    epochs=10,\n",
        "    validation_data=test_generator,\n",
        "    callbacks=[keras.callbacks.EarlyStopping(monitor='val_loss', patience=3, restore_best_weights=True)]\n",
        ")"
      ],
      "metadata": {
        "colab": {
          "base_uri": "https://localhost:8080/"
        },
        "id": "F6Klk1jy7n2r",
        "outputId": "2ab1a6d3-1712-4058-84a4-dbf04d35a99c"
      },
      "execution_count": 22,
      "outputs": [
        {
          "output_type": "stream",
          "name": "stderr",
          "text": [
            "/usr/local/lib/python3.11/dist-packages/keras/src/trainers/data_adapters/py_dataset_adapter.py:121: UserWarning: Your `PyDataset` class should call `super().__init__(**kwargs)` in its constructor. `**kwargs` can include `workers`, `use_multiprocessing`, `max_queue_size`. Do not pass these arguments to `fit()`, as they will be ignored.\n",
            "  self._warn_if_super_not_called()\n"
          ]
        },
        {
          "output_type": "stream",
          "name": "stdout",
          "text": [
            "Epoch 1/10\n",
            "\u001b[1m126/126\u001b[0m \u001b[32m━━━━━━━━━━━━━━━━━━━━\u001b[0m\u001b[37m\u001b[0m \u001b[1m87s\u001b[0m 613ms/step - accuracy: 0.3724 - loss: 1.4368 - val_accuracy: 0.4298 - val_loss: 1.2156\n",
            "Epoch 2/10\n",
            "\u001b[1m126/126\u001b[0m \u001b[32m━━━━━━━━━━━━━━━━━━━━\u001b[0m\u001b[37m\u001b[0m \u001b[1m127s\u001b[0m 537ms/step - accuracy: 0.4654 - loss: 1.1631 - val_accuracy: 0.4529 - val_loss: 1.2353\n",
            "Epoch 3/10\n",
            "\u001b[1m126/126\u001b[0m \u001b[32m━━━━━━━━━━━━━━━━━━━━\u001b[0m\u001b[37m\u001b[0m \u001b[1m68s\u001b[0m 537ms/step - accuracy: 0.4825 - loss: 1.1372 - val_accuracy: 0.4518 - val_loss: 1.2211\n",
            "Epoch 4/10\n",
            "\u001b[1m126/126\u001b[0m \u001b[32m━━━━━━━━━━━━━━━━━━━━\u001b[0m\u001b[37m\u001b[0m \u001b[1m68s\u001b[0m 538ms/step - accuracy: 0.5162 - loss: 1.0927 - val_accuracy: 0.4353 - val_loss: 1.2315\n"
          ]
        }
      ]
    },
    {
      "cell_type": "code",
      "source": [
        "# 3"
      ],
      "metadata": {
        "id": "MbcbAaWADtg_"
      },
      "execution_count": 27,
      "outputs": []
    },
    {
      "cell_type": "code",
      "source": [
        "callbacks = [\n",
        "    keras.callbacks.EarlyStopping(monitor='val_loss', patience=3, restore_best_weights=True),\n",
        "    keras.callbacks.ReduceLROnPlateau(monitor='val_loss', factor=0.5, patience=2, verbose=1)\n",
        "]\n",
        "\n",
        "history = model.fit(\n",
        "    train_generator,\n",
        "    epochs=20,\n",
        "    validation_data=test_generator,\n",
        "    callbacks=callbacks\n",
        ")"
      ],
      "metadata": {
        "colab": {
          "base_uri": "https://localhost:8080/"
        },
        "id": "ZIrjmPlZ7rPN",
        "outputId": "43ff2103-9eb4-4440-91c4-24ba3539ebb5"
      },
      "execution_count": 23,
      "outputs": [
        {
          "output_type": "stream",
          "name": "stdout",
          "text": [
            "Epoch 1/20\n",
            "\u001b[1m126/126\u001b[0m \u001b[32m━━━━━━━━━━━━━━━━━━━━\u001b[0m\u001b[37m\u001b[0m \u001b[1m69s\u001b[0m 547ms/step - accuracy: 0.4500 - loss: 1.1941 - val_accuracy: 0.4627 - val_loss: 1.1861 - learning_rate: 5.0000e-04\n",
            "Epoch 2/20\n",
            "\u001b[1m126/126\u001b[0m \u001b[32m━━━━━━━━━━━━━━━━━━━━\u001b[0m\u001b[37m\u001b[0m \u001b[1m68s\u001b[0m 537ms/step - accuracy: 0.4962 - loss: 1.1386 - val_accuracy: 0.4781 - val_loss: 1.1712 - learning_rate: 5.0000e-04\n",
            "Epoch 3/20\n",
            "\u001b[1m126/126\u001b[0m \u001b[32m━━━━━━━━━━━━━━━━━━━━\u001b[0m\u001b[37m\u001b[0m \u001b[1m72s\u001b[0m 568ms/step - accuracy: 0.5194 - loss: 1.0836 - val_accuracy: 0.4408 - val_loss: 1.2046 - learning_rate: 5.0000e-04\n",
            "Epoch 4/20\n",
            "\u001b[1m126/126\u001b[0m \u001b[32m━━━━━━━━━━━━━━━━━━━━\u001b[0m\u001b[37m\u001b[0m \u001b[1m71s\u001b[0m 565ms/step - accuracy: 0.5027 - loss: 1.0883 - val_accuracy: 0.4737 - val_loss: 1.1418 - learning_rate: 5.0000e-04\n",
            "Epoch 5/20\n",
            "\u001b[1m126/126\u001b[0m \u001b[32m━━━━━━━━━━━━━━━━━━━━\u001b[0m\u001b[37m\u001b[0m \u001b[1m69s\u001b[0m 546ms/step - accuracy: 0.5297 - loss: 1.0530 - val_accuracy: 0.4649 - val_loss: 1.1611 - learning_rate: 5.0000e-04\n",
            "Epoch 6/20\n",
            "\u001b[1m126/126\u001b[0m \u001b[32m━━━━━━━━━━━━━━━━━━━━\u001b[0m\u001b[37m\u001b[0m \u001b[1m0s\u001b[0m 511ms/step - accuracy: 0.5626 - loss: 1.0285\n",
            "Epoch 6: ReduceLROnPlateau reducing learning rate to 0.0002500000118743628.\n",
            "\u001b[1m126/126\u001b[0m \u001b[32m━━━━━━━━━━━━━━━━━━━━\u001b[0m\u001b[37m\u001b[0m \u001b[1m71s\u001b[0m 562ms/step - accuracy: 0.5625 - loss: 1.0286 - val_accuracy: 0.4529 - val_loss: 1.2015 - learning_rate: 5.0000e-04\n",
            "Epoch 7/20\n",
            "\u001b[1m126/126\u001b[0m \u001b[32m━━━━━━━━━━━━━━━━━━━━\u001b[0m\u001b[37m\u001b[0m \u001b[1m72s\u001b[0m 569ms/step - accuracy: 0.5698 - loss: 1.0046 - val_accuracy: 0.4901 - val_loss: 1.1402 - learning_rate: 2.5000e-04\n",
            "Epoch 8/20\n",
            "\u001b[1m126/126\u001b[0m \u001b[32m━━━━━━━━━━━━━━━━━━━━\u001b[0m\u001b[37m\u001b[0m \u001b[1m72s\u001b[0m 572ms/step - accuracy: 0.5634 - loss: 0.9842 - val_accuracy: 0.4507 - val_loss: 1.1799 - learning_rate: 2.5000e-04\n",
            "Epoch 9/20\n",
            "\u001b[1m126/126\u001b[0m \u001b[32m━━━━━━━━━━━━━━━━━━━━\u001b[0m\u001b[37m\u001b[0m \u001b[1m0s\u001b[0m 513ms/step - accuracy: 0.5944 - loss: 0.9669\n",
            "Epoch 9: ReduceLROnPlateau reducing learning rate to 0.0001250000059371814.\n",
            "\u001b[1m126/126\u001b[0m \u001b[32m━━━━━━━━━━━━━━━━━━━━\u001b[0m\u001b[37m\u001b[0m \u001b[1m71s\u001b[0m 560ms/step - accuracy: 0.5944 - loss: 0.9669 - val_accuracy: 0.4419 - val_loss: 1.1820 - learning_rate: 2.5000e-04\n",
            "Epoch 10/20\n",
            "\u001b[1m126/126\u001b[0m \u001b[32m━━━━━━━━━━━━━━━━━━━━\u001b[0m\u001b[37m\u001b[0m \u001b[1m69s\u001b[0m 548ms/step - accuracy: 0.6175 - loss: 0.9249 - val_accuracy: 0.4923 - val_loss: 1.1548 - learning_rate: 1.2500e-04\n"
          ]
        }
      ]
    },
    {
      "cell_type": "code",
      "source": [
        "# 4"
      ],
      "metadata": {
        "id": "Y750clULDvxU"
      },
      "execution_count": 28,
      "outputs": []
    },
    {
      "cell_type": "code",
      "source": [
        "base_model.trainable = True\n",
        "\n",
        "model.compile(\n",
        "    loss='categorical_crossentropy',\n",
        "    optimizer=keras.optimizers.Adam(learning_rate=1e-5),\n",
        "    metrics=['accuracy']\n",
        ")\n",
        "\n",
        "history = model.fit(\n",
        "    train_generator,\n",
        "    epochs=10,\n",
        "    validation_data=test_generator,\n",
        "    callbacks=callbacks\n",
        ")"
      ],
      "metadata": {
        "colab": {
          "base_uri": "https://localhost:8080/"
        },
        "id": "d5jp0AO29Tx4",
        "outputId": "62679dd4-8968-40d7-8253-f62196a50ec4"
      },
      "execution_count": 24,
      "outputs": [
        {
          "output_type": "stream",
          "name": "stdout",
          "text": [
            "Epoch 1/10\n",
            "\u001b[1m126/126\u001b[0m \u001b[32m━━━━━━━━━━━━━━━━━━━━\u001b[0m\u001b[37m\u001b[0m \u001b[1m150s\u001b[0m 775ms/step - accuracy: 0.4043 - loss: 1.3778 - val_accuracy: 0.5000 - val_loss: 1.1240 - learning_rate: 1.0000e-05\n",
            "Epoch 2/10\n",
            "\u001b[1m126/126\u001b[0m \u001b[32m━━━━━━━━━━━━━━━━━━━━\u001b[0m\u001b[37m\u001b[0m \u001b[1m73s\u001b[0m 577ms/step - accuracy: 0.4806 - loss: 1.1695 - val_accuracy: 0.4956 - val_loss: 1.1275 - learning_rate: 1.0000e-05\n",
            "Epoch 3/10\n",
            "\u001b[1m126/126\u001b[0m \u001b[32m━━━━━━━━━━━━━━━━━━━━\u001b[0m\u001b[37m\u001b[0m \u001b[1m72s\u001b[0m 575ms/step - accuracy: 0.4992 - loss: 1.1251 - val_accuracy: 0.4846 - val_loss: 1.1210 - learning_rate: 1.0000e-05\n",
            "Epoch 4/10\n",
            "\u001b[1m126/126\u001b[0m \u001b[32m━━━━━━━━━━━━━━━━━━━━\u001b[0m\u001b[37m\u001b[0m \u001b[1m82s\u001b[0m 577ms/step - accuracy: 0.5130 - loss: 1.0971 - val_accuracy: 0.4901 - val_loss: 1.1155 - learning_rate: 1.0000e-05\n",
            "Epoch 5/10\n",
            "\u001b[1m126/126\u001b[0m \u001b[32m━━━━━━━━━━━━━━━━━━━━\u001b[0m\u001b[37m\u001b[0m \u001b[1m70s\u001b[0m 559ms/step - accuracy: 0.5209 - loss: 1.0596 - val_accuracy: 0.4956 - val_loss: 1.1124 - learning_rate: 1.0000e-05\n",
            "Epoch 6/10\n",
            "\u001b[1m126/126\u001b[0m \u001b[32m━━━━━━━━━━━━━━━━━━━━\u001b[0m\u001b[37m\u001b[0m \u001b[1m69s\u001b[0m 551ms/step - accuracy: 0.5398 - loss: 1.0673 - val_accuracy: 0.5033 - val_loss: 1.1046 - learning_rate: 1.0000e-05\n",
            "Epoch 7/10\n",
            "\u001b[1m126/126\u001b[0m \u001b[32m━━━━━━━━━━━━━━━━━━━━\u001b[0m\u001b[37m\u001b[0m \u001b[1m83s\u001b[0m 556ms/step - accuracy: 0.5555 - loss: 1.0213 - val_accuracy: 0.5208 - val_loss: 1.1102 - learning_rate: 1.0000e-05\n",
            "Epoch 8/10\n",
            "\u001b[1m126/126\u001b[0m \u001b[32m━━━━━━━━━━━━━━━━━━━━\u001b[0m\u001b[37m\u001b[0m \u001b[1m73s\u001b[0m 583ms/step - accuracy: 0.5686 - loss: 1.0069 - val_accuracy: 0.5066 - val_loss: 1.1030 - learning_rate: 1.0000e-05\n",
            "Epoch 9/10\n",
            "\u001b[1m126/126\u001b[0m \u001b[32m━━━━━━━━━━━━━━━━━━━━\u001b[0m\u001b[37m\u001b[0m \u001b[1m80s\u001b[0m 571ms/step - accuracy: 0.5746 - loss: 0.9738 - val_accuracy: 0.5208 - val_loss: 1.1004 - learning_rate: 1.0000e-05\n",
            "Epoch 10/10\n",
            "\u001b[1m126/126\u001b[0m \u001b[32m━━━━━━━━━━━━━━━━━━━━\u001b[0m\u001b[37m\u001b[0m \u001b[1m71s\u001b[0m 567ms/step - accuracy: 0.5765 - loss: 0.9835 - val_accuracy: 0.5121 - val_loss: 1.0917 - learning_rate: 1.0000e-05\n"
          ]
        }
      ]
    },
    {
      "cell_type": "code",
      "source": [
        "# 5"
      ],
      "metadata": {
        "id": "lOWzM3auEB74"
      },
      "execution_count": 29,
      "outputs": []
    },
    {
      "cell_type": "code",
      "source": [
        "train_datagen = ImageDataGenerator(\n",
        "    rescale=1./255,\n",
        "    rotation_range=30,\n",
        "    width_shift_range=0.2,\n",
        "    height_shift_range=0.2,\n",
        "    shear_range=0.2,\n",
        "    zoom_range=0.2,\n",
        "    horizontal_flip=True,\n",
        "    fill_mode='nearest'\n",
        ")"
      ],
      "metadata": {
        "id": "Jr4dgpWhD6QN"
      },
      "execution_count": 31,
      "outputs": []
    },
    {
      "cell_type": "code",
      "source": [
        "# MobileNetV2\n",
        "train_generator = train_datagen.flow_from_directory(\n",
        "    train_dir,\n",
        "    target_size=(160, 160),\n",
        "    batch_size=32,\n",
        "    class_mode='categorical'\n",
        ")\n",
        "\n",
        "test_generator = test_datagen.flow_from_directory(\n",
        "    test_dir,\n",
        "    target_size=(160, 160),\n",
        "    batch_size=32,\n",
        "    class_mode='categorical'\n",
        ")\n"
      ],
      "metadata": {
        "colab": {
          "base_uri": "https://localhost:8080/"
        },
        "id": "0w-eHJsNEDax",
        "outputId": "d4f65807-e7fc-4e8d-e1b7-8784fc1023e3"
      },
      "execution_count": 34,
      "outputs": [
        {
          "output_type": "stream",
          "name": "stdout",
          "text": [
            "Found 4008 images belonging to 4 classes.\n",
            "Found 912 images belonging to 4 classes.\n"
          ]
        }
      ]
    },
    {
      "cell_type": "code",
      "source": [
        "from sklearn.utils.class_weight import compute_class_weight\n",
        "import numpy as np\n",
        "\n",
        "classes = list(train_generator.class_indices.keys())\n",
        "y_train = train_generator.classes\n",
        "class_weights = compute_class_weight(class_weight='balanced', classes=np.unique(y_train), y=y_train)\n",
        "\n",
        "class_weights = {i: class_weights[i] for i in range(len(classes))}\n",
        "\n",
        "history = model.fit(\n",
        "    train_generator,\n",
        "    epochs=10,\n",
        "    validation_data=test_generator,\n",
        "    class_weight=class_weights,\n",
        "    callbacks=callbacks\n",
        ")"
      ],
      "metadata": {
        "colab": {
          "base_uri": "https://localhost:8080/"
        },
        "id": "QjRck0lQEZ_H",
        "outputId": "37c45b66-7975-4f88-872d-5af0f02586b1"
      },
      "execution_count": 35,
      "outputs": [
        {
          "output_type": "stream",
          "name": "stderr",
          "text": [
            "/usr/local/lib/python3.11/dist-packages/keras/src/trainers/data_adapters/py_dataset_adapter.py:121: UserWarning: Your `PyDataset` class should call `super().__init__(**kwargs)` in its constructor. `**kwargs` can include `workers`, `use_multiprocessing`, `max_queue_size`. Do not pass these arguments to `fit()`, as they will be ignored.\n",
            "  self._warn_if_super_not_called()\n"
          ]
        },
        {
          "output_type": "stream",
          "name": "stdout",
          "text": [
            "Epoch 1/10\n",
            "\u001b[1m126/126\u001b[0m \u001b[32m━━━━━━━━━━━━━━━━━━━━\u001b[0m\u001b[37m\u001b[0m \u001b[1m123s\u001b[0m 724ms/step - accuracy: 0.5677 - loss: 1.0088 - val_accuracy: 0.5164 - val_loss: 1.0890 - learning_rate: 1.0000e-05\n",
            "Epoch 2/10\n",
            "\u001b[1m126/126\u001b[0m \u001b[32m━━━━━━━━━━━━━━━━━━━━\u001b[0m\u001b[37m\u001b[0m \u001b[1m72s\u001b[0m 569ms/step - accuracy: 0.5661 - loss: 0.9942 - val_accuracy: 0.5143 - val_loss: 1.0883 - learning_rate: 1.0000e-05\n",
            "Epoch 3/10\n",
            "\u001b[1m126/126\u001b[0m \u001b[32m━━━━━━━━━━━━━━━━━━━━\u001b[0m\u001b[37m\u001b[0m \u001b[1m71s\u001b[0m 563ms/step - accuracy: 0.5513 - loss: 1.0068 - val_accuracy: 0.5230 - val_loss: 1.0797 - learning_rate: 1.0000e-05\n",
            "Epoch 4/10\n",
            "\u001b[1m126/126\u001b[0m \u001b[32m━━━━━━━━━━━━━━━━━━━━\u001b[0m\u001b[37m\u001b[0m \u001b[1m72s\u001b[0m 575ms/step - accuracy: 0.5687 - loss: 1.0154 - val_accuracy: 0.5296 - val_loss: 1.0749 - learning_rate: 1.0000e-05\n",
            "Epoch 5/10\n",
            "\u001b[1m126/126\u001b[0m \u001b[32m━━━━━━━━━━━━━━━━━━━━\u001b[0m\u001b[37m\u001b[0m \u001b[1m72s\u001b[0m 571ms/step - accuracy: 0.5645 - loss: 0.9796 - val_accuracy: 0.5175 - val_loss: 1.0836 - learning_rate: 1.0000e-05\n",
            "Epoch 6/10\n",
            "\u001b[1m126/126\u001b[0m \u001b[32m━━━━━━━━━━━━━━━━━━━━\u001b[0m\u001b[37m\u001b[0m \u001b[1m0s\u001b[0m 529ms/step - accuracy: 0.5783 - loss: 0.9598\n",
            "Epoch 6: ReduceLROnPlateau reducing learning rate to 4.999999873689376e-06.\n",
            "\u001b[1m126/126\u001b[0m \u001b[32m━━━━━━━━━━━━━━━━━━━━\u001b[0m\u001b[37m\u001b[0m \u001b[1m73s\u001b[0m 579ms/step - accuracy: 0.5783 - loss: 0.9598 - val_accuracy: 0.5154 - val_loss: 1.0801 - learning_rate: 1.0000e-05\n",
            "Epoch 7/10\n",
            "\u001b[1m126/126\u001b[0m \u001b[32m━━━━━━━━━━━━━━━━━━━━\u001b[0m\u001b[37m\u001b[0m \u001b[1m81s\u001b[0m 571ms/step - accuracy: 0.5851 - loss: 0.9567 - val_accuracy: 0.5230 - val_loss: 1.0744 - learning_rate: 5.0000e-06\n",
            "Epoch 8/10\n",
            "\u001b[1m126/126\u001b[0m \u001b[32m━━━━━━━━━━━━━━━━━━━━\u001b[0m\u001b[37m\u001b[0m \u001b[1m73s\u001b[0m 578ms/step - accuracy: 0.5892 - loss: 0.9604 - val_accuracy: 0.5274 - val_loss: 1.0730 - learning_rate: 5.0000e-06\n",
            "Epoch 9/10\n",
            "\u001b[1m126/126\u001b[0m \u001b[32m━━━━━━━━━━━━━━━━━━━━\u001b[0m\u001b[37m\u001b[0m \u001b[1m82s\u001b[0m 575ms/step - accuracy: 0.5920 - loss: 0.9505 - val_accuracy: 0.5296 - val_loss: 1.0732 - learning_rate: 5.0000e-06\n",
            "Epoch 10/10\n",
            "\u001b[1m126/126\u001b[0m \u001b[32m━━━━━━━━━━━━━━━━━━━━\u001b[0m\u001b[37m\u001b[0m \u001b[1m72s\u001b[0m 567ms/step - accuracy: 0.5894 - loss: 0.9487 - val_accuracy: 0.5307 - val_loss: 1.0714 - learning_rate: 5.0000e-06\n"
          ]
        }
      ]
    },
    {
      "cell_type": "code",
      "source": [
        "# EfficientNetB0"
      ],
      "metadata": {
        "id": "RMuzzJIdEfYM"
      },
      "execution_count": 37,
      "outputs": []
    },
    {
      "cell_type": "code",
      "source": [
        "from tensorflow.keras.applications import EfficientNetB0\n",
        "\n",
        "base_model = EfficientNetB0(input_shape=(160, 160, 3), include_top=False, weights='imagenet')\n",
        "\n",
        "model = models.Sequential([\n",
        "    base_model,\n",
        "    layers.GlobalAveragePooling2D(),\n",
        "    layers.Dense(512, activation='relu'),\n",
        "    layers.Dropout(0.3),\n",
        "    layers.Dense(len(train_generator.class_indices), activation='softmax')\n",
        "])\n",
        "\n",
        "model.compile(\n",
        "    loss='categorical_crossentropy',\n",
        "    optimizer=keras.optimizers.Adam(learning_rate=0.0005),\n",
        "    metrics=['accuracy']\n",
        ")\n",
        "\n",
        "history = model.fit(\n",
        "    train_generator,\n",
        "    epochs=10,\n",
        "    validation_data=test_generator,\n",
        "    class_weight=class_weights,\n",
        "    callbacks=callbacks\n",
        ")\n"
      ],
      "metadata": {
        "colab": {
          "base_uri": "https://localhost:8080/"
        },
        "id": "mo5XFemOI0mo",
        "outputId": "34c57ecf-3ecc-400b-c98f-ef5fc564a88c"
      },
      "execution_count": 38,
      "outputs": [
        {
          "output_type": "stream",
          "name": "stdout",
          "text": [
            "Downloading data from https://storage.googleapis.com/keras-applications/efficientnetb0_notop.h5\n",
            "\u001b[1m16705208/16705208\u001b[0m \u001b[32m━━━━━━━━━━━━━━━━━━━━\u001b[0m\u001b[37m\u001b[0m \u001b[1m2s\u001b[0m 0us/step\n",
            "Epoch 1/10\n",
            "\u001b[1m126/126\u001b[0m \u001b[32m━━━━━━━━━━━━━━━━━━━━\u001b[0m\u001b[37m\u001b[0m \u001b[1m200s\u001b[0m 959ms/step - accuracy: 0.3716 - loss: 1.3091 - val_accuracy: 0.2840 - val_loss: 1.5253 - learning_rate: 5.0000e-04\n",
            "Epoch 2/10\n",
            "\u001b[1m126/126\u001b[0m \u001b[32m━━━━━━━━━━━━━━━━━━━━\u001b[0m\u001b[37m\u001b[0m \u001b[1m72s\u001b[0m 573ms/step - accuracy: 0.5150 - loss: 1.1139 - val_accuracy: 0.2226 - val_loss: 1.7547 - learning_rate: 5.0000e-04\n",
            "Epoch 3/10\n",
            "\u001b[1m126/126\u001b[0m \u001b[32m━━━━━━━━━━━━━━━━━━━━\u001b[0m\u001b[37m\u001b[0m \u001b[1m0s\u001b[0m 524ms/step - accuracy: 0.5122 - loss: 1.0742\n",
            "Epoch 3: ReduceLROnPlateau reducing learning rate to 0.0002500000118743628.\n",
            "\u001b[1m126/126\u001b[0m \u001b[32m━━━━━━━━━━━━━━━━━━━━\u001b[0m\u001b[37m\u001b[0m \u001b[1m71s\u001b[0m 565ms/step - accuracy: 0.5124 - loss: 1.0741 - val_accuracy: 0.2226 - val_loss: 1.8575 - learning_rate: 5.0000e-04\n",
            "Epoch 4/10\n",
            "\u001b[1m126/126\u001b[0m \u001b[32m━━━━━━━━━━━━━━━━━━━━\u001b[0m\u001b[37m\u001b[0m \u001b[1m71s\u001b[0m 566ms/step - accuracy: 0.5795 - loss: 0.9897 - val_accuracy: 0.2895 - val_loss: 1.5701 - learning_rate: 2.5000e-04\n"
          ]
        }
      ]
    },
    {
      "cell_type": "code",
      "source": [
        "# ResNet50\n",
        "from tensorflow.keras.applications import ResNet50\n",
        "\n",
        "base_model = ResNet50(input_shape=(160, 160, 3), include_top=False, weights='imagenet')\n",
        "\n",
        "model = models.Sequential([\n",
        "    base_model,\n",
        "    layers.GlobalAveragePooling2D(),\n",
        "    layers.Dense(512, activation='relu'),\n",
        "    layers.Dropout(0.3),\n",
        "    layers.Dense(len(train_generator.class_indices), activation='softmax')\n",
        "])\n",
        "\n",
        "model.compile(\n",
        "    loss='categorical_crossentropy',\n",
        "    optimizer=keras.optimizers.Adam(learning_rate=0.0001),\n",
        "    metrics=['accuracy']\n",
        ")\n",
        "\n",
        "history = model.fit(\n",
        "    train_generator,\n",
        "    epochs=10,\n",
        "    validation_data=test_generator,\n",
        "    class_weight=class_weights,\n",
        "    callbacks=callbacks\n",
        ")\n"
      ],
      "metadata": {
        "colab": {
          "base_uri": "https://localhost:8080/"
        },
        "id": "drxFF0pSI6bk",
        "outputId": "b53552bc-aef1-46da-86f5-2541127b9966"
      },
      "execution_count": 39,
      "outputs": [
        {
          "output_type": "stream",
          "name": "stdout",
          "text": [
            "Downloading data from https://storage.googleapis.com/tensorflow/keras-applications/resnet/resnet50_weights_tf_dim_ordering_tf_kernels_notop.h5\n",
            "\u001b[1m94765736/94765736\u001b[0m \u001b[32m━━━━━━━━━━━━━━━━━━━━\u001b[0m\u001b[37m\u001b[0m \u001b[1m5s\u001b[0m 0us/step\n",
            "Epoch 1/10\n",
            "\u001b[1m126/126\u001b[0m \u001b[32m━━━━━━━━━━━━━━━━━━━━\u001b[0m\u001b[37m\u001b[0m \u001b[1m177s\u001b[0m 869ms/step - accuracy: 0.3927 - loss: 1.4049 - val_accuracy: 0.2226 - val_loss: 1.5934 - learning_rate: 1.0000e-04\n",
            "Epoch 2/10\n",
            "\u001b[1m126/126\u001b[0m \u001b[32m━━━━━━━━━━━━━━━━━━━━\u001b[0m\u001b[37m\u001b[0m \u001b[1m76s\u001b[0m 600ms/step - accuracy: 0.5089 - loss: 1.0744 - val_accuracy: 0.2193 - val_loss: 1.4240 - learning_rate: 1.0000e-04\n",
            "Epoch 3/10\n",
            "\u001b[1m126/126\u001b[0m \u001b[32m━━━━━━━━━━━━━━━━━━━━\u001b[0m\u001b[37m\u001b[0m \u001b[1m75s\u001b[0m 597ms/step - accuracy: 0.5520 - loss: 1.0361 - val_accuracy: 0.2160 - val_loss: 1.5238 - learning_rate: 1.0000e-04\n",
            "Epoch 4/10\n",
            "\u001b[1m126/126\u001b[0m \u001b[32m━━━━━━━━━━━━━━━━━━━━\u001b[0m\u001b[37m\u001b[0m \u001b[1m0s\u001b[0m 558ms/step - accuracy: 0.6035 - loss: 0.9246\n",
            "Epoch 4: ReduceLROnPlateau reducing learning rate to 4.999999873689376e-05.\n",
            "\u001b[1m126/126\u001b[0m \u001b[32m━━━━━━━━━━━━━━━━━━━━\u001b[0m\u001b[37m\u001b[0m \u001b[1m76s\u001b[0m 601ms/step - accuracy: 0.6033 - loss: 0.9248 - val_accuracy: 0.2423 - val_loss: 1.4270 - learning_rate: 1.0000e-04\n",
            "Epoch 5/10\n",
            "\u001b[1m126/126\u001b[0m \u001b[32m━━━━━━━━━━━━━━━━━━━━\u001b[0m\u001b[37m\u001b[0m \u001b[1m75s\u001b[0m 601ms/step - accuracy: 0.6442 - loss: 0.8368 - val_accuracy: 0.2950 - val_loss: 1.4234 - learning_rate: 5.0000e-05\n",
            "Epoch 6/10\n",
            "\u001b[1m126/126\u001b[0m \u001b[32m━━━━━━━━━━━━━━━━━━━━\u001b[0m\u001b[37m\u001b[0m \u001b[1m76s\u001b[0m 603ms/step - accuracy: 0.6650 - loss: 0.7924 - val_accuracy: 0.3136 - val_loss: 1.4504 - learning_rate: 5.0000e-05\n",
            "Epoch 7/10\n",
            "\u001b[1m126/126\u001b[0m \u001b[32m━━━━━━━━━━━━━━━━━━━━\u001b[0m\u001b[37m\u001b[0m \u001b[1m0s\u001b[0m 547ms/step - accuracy: 0.6832 - loss: 0.7670\n",
            "Epoch 7: ReduceLROnPlateau reducing learning rate to 2.499999936844688e-05.\n",
            "\u001b[1m126/126\u001b[0m \u001b[32m━━━━━━━━━━━━━━━━━━━━\u001b[0m\u001b[37m\u001b[0m \u001b[1m74s\u001b[0m 589ms/step - accuracy: 0.6832 - loss: 0.7669 - val_accuracy: 0.4002 - val_loss: 1.4624 - learning_rate: 5.0000e-05\n",
            "Epoch 8/10\n",
            "\u001b[1m126/126\u001b[0m \u001b[32m━━━━━━━━━━━━━━━━━━━━\u001b[0m\u001b[37m\u001b[0m \u001b[1m75s\u001b[0m 596ms/step - accuracy: 0.7435 - loss: 0.6539 - val_accuracy: 0.4167 - val_loss: 1.3071 - learning_rate: 2.5000e-05\n",
            "Epoch 9/10\n",
            "\u001b[1m126/126\u001b[0m \u001b[32m━━━━━━━━━━━━━━━━━━━━\u001b[0m\u001b[37m\u001b[0m \u001b[1m75s\u001b[0m 593ms/step - accuracy: 0.7498 - loss: 0.6079 - val_accuracy: 0.4496 - val_loss: 1.3716 - learning_rate: 2.5000e-05\n",
            "Epoch 10/10\n",
            "\u001b[1m126/126\u001b[0m \u001b[32m━━━━━━━━━━━━━━━━━━━━\u001b[0m\u001b[37m\u001b[0m \u001b[1m0s\u001b[0m 547ms/step - accuracy: 0.7589 - loss: 0.5934\n",
            "Epoch 10: ReduceLROnPlateau reducing learning rate to 1.249999968422344e-05.\n",
            "\u001b[1m126/126\u001b[0m \u001b[32m━━━━━━━━━━━━━━━━━━━━\u001b[0m\u001b[37m\u001b[0m \u001b[1m75s\u001b[0m 596ms/step - accuracy: 0.7589 - loss: 0.5934 - val_accuracy: 0.4989 - val_loss: 1.4349 - learning_rate: 2.5000e-05\n"
          ]
        }
      ]
    },
    {
      "cell_type": "code",
      "source": [
        "history = model.fit(\n",
        "    train_generator,\n",
        "    epochs=20,\n",
        "    validation_data=test_generator,\n",
        "    class_weight=class_weights,\n",
        "    callbacks=callbacks\n",
        ")"
      ],
      "metadata": {
        "colab": {
          "base_uri": "https://localhost:8080/"
        },
        "id": "wA2cfsb6Qh21",
        "outputId": "0ad5ef67-0446-4fc6-e466-b717c01a421e"
      },
      "execution_count": 46,
      "outputs": [
        {
          "output_type": "stream",
          "name": "stdout",
          "text": [
            "Epoch 1/20\n",
            "\u001b[1m126/126\u001b[0m \u001b[32m━━━━━━━━━━━━━━━━━━━━\u001b[0m\u001b[37m\u001b[0m \u001b[1m76s\u001b[0m 602ms/step - accuracy: 0.7385 - loss: 0.6227 - val_accuracy: 0.4759 - val_loss: 1.2996 - learning_rate: 1.2500e-05\n",
            "Epoch 2/20\n",
            "\u001b[1m126/126\u001b[0m \u001b[32m━━━━━━━━━━━━━━━━━━━━\u001b[0m\u001b[37m\u001b[0m \u001b[1m80s\u001b[0m 631ms/step - accuracy: 0.7795 - loss: 0.5559 - val_accuracy: 0.4879 - val_loss: 1.3786 - learning_rate: 1.2500e-05\n",
            "Epoch 3/20\n",
            "\u001b[1m126/126\u001b[0m \u001b[32m━━━━━━━━━━━━━━━━━━━━\u001b[0m\u001b[37m\u001b[0m \u001b[1m0s\u001b[0m 548ms/step - accuracy: 0.7683 - loss: 0.5576\n",
            "Epoch 3: ReduceLROnPlateau reducing learning rate to 6.24999984211172e-06.\n",
            "\u001b[1m126/126\u001b[0m \u001b[32m━━━━━━━━━━━━━━━━━━━━\u001b[0m\u001b[37m\u001b[0m \u001b[1m75s\u001b[0m 598ms/step - accuracy: 0.7684 - loss: 0.5576 - val_accuracy: 0.4978 - val_loss: 1.3843 - learning_rate: 1.2500e-05\n",
            "Epoch 4/20\n",
            "\u001b[1m126/126\u001b[0m \u001b[32m━━━━━━━━━━━━━━━━━━━━\u001b[0m\u001b[37m\u001b[0m \u001b[1m75s\u001b[0m 590ms/step - accuracy: 0.7954 - loss: 0.5136 - val_accuracy: 0.4989 - val_loss: 1.3607 - learning_rate: 6.2500e-06\n"
          ]
        }
      ]
    },
    {
      "cell_type": "code",
      "source": [
        "base_model.trainable = True\n",
        "model.compile(\n",
        "    loss='categorical_crossentropy',\n",
        "    optimizer=keras.optimizers.Adam(learning_rate=1e-5),\n",
        "    metrics=['accuracy']\n",
        ")\n",
        "history = model.fit(\n",
        "    train_generator,\n",
        "    epochs=10,\n",
        "    validation_data=test_generator,\n",
        "    class_weight=class_weights,\n",
        "    callbacks=callbacks\n",
        ")"
      ],
      "metadata": {
        "colab": {
          "base_uri": "https://localhost:8080/"
        },
        "id": "HpipDpHXSRhF",
        "outputId": "8c070de4-62b6-4cfd-8a2b-93d0ed9df8e6"
      },
      "execution_count": 47,
      "outputs": [
        {
          "output_type": "stream",
          "name": "stdout",
          "text": [
            "Epoch 1/10\n",
            "\u001b[1m126/126\u001b[0m \u001b[32m━━━━━━━━━━━━━━━━━━━━\u001b[0m\u001b[37m\u001b[0m \u001b[1m166s\u001b[0m 840ms/step - accuracy: 0.7554 - loss: 0.5929 - val_accuracy: 0.4890 - val_loss: 1.3540 - learning_rate: 1.0000e-05\n",
            "Epoch 2/10\n",
            "\u001b[1m126/126\u001b[0m \u001b[32m━━━━━━━━━━━━━━━━━━━━\u001b[0m\u001b[37m\u001b[0m \u001b[1m76s\u001b[0m 601ms/step - accuracy: 0.7665 - loss: 0.5564 - val_accuracy: 0.5055 - val_loss: 1.4164 - learning_rate: 1.0000e-05\n",
            "Epoch 3/10\n",
            "\u001b[1m126/126\u001b[0m \u001b[32m━━━━━━━━━━━━━━━━━━━━\u001b[0m\u001b[37m\u001b[0m \u001b[1m0s\u001b[0m 550ms/step - accuracy: 0.7697 - loss: 0.5391\n",
            "Epoch 3: ReduceLROnPlateau reducing learning rate to 4.999999873689376e-06.\n",
            "\u001b[1m126/126\u001b[0m \u001b[32m━━━━━━━━━━━━━━━━━━━━\u001b[0m\u001b[37m\u001b[0m \u001b[1m82s\u001b[0m 599ms/step - accuracy: 0.7697 - loss: 0.5391 - val_accuracy: 0.5088 - val_loss: 1.3876 - learning_rate: 1.0000e-05\n",
            "Epoch 4/10\n",
            "\u001b[1m126/126\u001b[0m \u001b[32m━━━━━━━━━━━━━━━━━━━━\u001b[0m\u001b[37m\u001b[0m \u001b[1m75s\u001b[0m 596ms/step - accuracy: 0.8030 - loss: 0.4992 - val_accuracy: 0.5143 - val_loss: 1.3973 - learning_rate: 5.0000e-06\n"
          ]
        }
      ]
    }
  ],
  "metadata": {
    "accelerator": "GPU",
    "colab": {
      "gpuType": "T4",
      "provenance": []
    },
    "kernelspec": {
      "display_name": "Python 3",
      "name": "python3"
    },
    "language_info": {
      "name": "python"
    }
  },
  "nbformat": 4,
  "nbformat_minor": 0
}